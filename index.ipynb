{
 "cells": [
  {
   "cell_type": "markdown",
   "metadata": {},
   "source": [
    "---\n",
    "title: Karst Recharge in Arizona\n",
    "subtitle: Opportunities, Challenges, and Recommendations\n",
    "authors:\n",
    "  - name:\n",
    "      given: Ryan E.\n",
    "      family: Lima\n",
    "    degrees:\n",
    "        - PhD\n",
    "    orcid: 0000-0002-5352-7215\n",
    "    corresponding: true\n",
    "    email: ryan.lima@nau.edu\n",
    "    roles:\n",
    "      - Investigation    \n",
    "      - Software\n",
    "      - Visualization\n",
    "    affiliations:\n",
    "      - Northern Arizona University\n",
    "      - School of Informatics, Computing & Cyber Systems\n",
    "      - School of Earth and Sustainability\n",
    "  - name: Abraham E. Springer\n",
    "    degrees:\n",
    "        - PhD\n",
    "    corresponding: false\n",
    "    roles: []\n",
    "    affiliations:\n",
    "      - Northern Arizona University\n",
    "      - School of Earth and Sustainability\n",
    "  - name: Temuulen Tsagaan Sankey\n",
    "    degrees:\n",
    "        - PhD\n",
    "    corresponding: false\n",
    "    roles: []\n",
    "    affiliations:\n",
    "      - Northern Arizona University\n",
    "      - School of Informatics, Computing & Cyber Systems\n",
    "keywords:\n",
    "  - Karst\n",
    "  - Recharge\n",
    "  - Arizona\n",
    "  - Opportunistic Recharge Enhancement\n",
    "abstract: |\n",
    "  This report is a summary of karst research and opportunities for recharge enhancement in Arizona. \n",
    "  \n",
    "date: last-modified\n",
    "bibliography: references.bib\n",
    "citation:\n",
    "  container-title: Journal Name\n",
    "number-sections: true\n",
    "---"
   ]
  },
  {
   "cell_type": "markdown",
   "metadata": {},
   "source": [
    "## Executive Summary\n",
    "\n",
    "Karst or karst-prone lithologies underlie much of Arizona. Evaporites (~7%), carbonates (~12%), volcanic pseudo-karst (~3%), and piping pseudokarst (~1%) collectively cover about 30% of the state. Evaporite basins and gypsum bearing units underly 8% and 48% of the state respectively. Karst aquifers are critical to arizona's water resources, they support municipal water supplies, sustain baseflow in rivers and streams, and feed ecologically important springs.\n",
    "\n",
    "In the arid western United States, where nearly all surface water is allocated or over-allocated, karst landscapes--characterized by internal drainage, rapid infiltration, and direct connection between surface and groundwater--offer unique opportunities for recharge enhacement without diverting water that would otherwise flow into regulated rivers or streams.\n",
    "\n",
    "However, the characteristics that make karst aquifers ideal for recharge also make them particularly vulnerable to contamination. The high hydrulic conductiity of karst conduits allows contaminants to move quickly with little natural attenuation, creating elevated risks to drinking water and sensitive ecosystems. Enhancing recharge in karst areas and protecting water quality both require informed and deliberate land-use planning,  thoughtful water source potection, and would benefit from coordinated research and targeted monitoring. Expaning research efforts and creating a comprehensive state-wide databse of karst features--including sinkhole, sinkhing streams, springs, and subsurface connections--will provide the foundation for effetive management, protection, and the sustainable use of water resources in Arizona's karst landscapes.\n",
    "\n",
    "![Arizona Karst Map](images\\AZKarstMapsmallpng.png)\n",
    "\n"
   ]
  },
  {
   "cell_type": "markdown",
   "metadata": {},
   "source": [
    "##  Introduction\n",
    "\n",
    "### What is Karst?\n",
    "\n",
    "Karst is a distinctive type of landscape and hydrogeologic system formed through the dissolution of soluble rocks such as limestone, dolostone, and evaporites [Ford and Williams, 2007; Taylor & Green, 2008]. The process of karstification creates characteristic landforms and hydrologic features including sinkholes (dolines), caves, sinking streams, and springs. Hydrologically, karst terrains are defiend by partial or complete internal drainage, rapid infiltration, and conduit-dominated groundwater flows. Globally, carbonate rocks over about 15% of the earth's land surface (Vilhar et al., 2022) and contribute disproportionately to global groundwater resources, particularly in arid and semi-arid regions.  \n",
    "\n",
    "\n",
    "### Why is Karst Matters in Arizona\n",
    "\n",
    "### Purpose of this report\n",
    "\n",
    "\n",
    "1. Synthesize existing knowledge about the extent, characteristics, and hydrologic role of Arizona’s karst systems, with detailed examples from the Kaibab Plateau and Mogollon Rim where recharge processes have been most studied.\n",
    "\n",
    "2. Highlight current data gaps, including the lack of a statewide karst feature database, incomplete 1:24,000 geologic mapping in karst-prone regions, limited dye tracing, and insufficient integration of lineament and sinkhole mapping.\n",
    "\n",
    "3. Provide recommendations for advancing karst science and management in Arizona, including coordinated mapping, research, and interagency collaboration to protect water quality and leverage recharge opportunities."
   ]
  },
  {
   "cell_type": "markdown",
   "metadata": {},
   "source": [
    "##  Sinkholes: Indicators of Karst Recharge \n",
    "\n",
    "Sinkholes (or dolines) are internaly draining depression up to 1km wide and hundreds of meters deep [Ford and Williams, 2007]. They are considered *index landforms* for karst, indicating subsurface conduit development and vertical permeability. \n",
    "\n"
   ]
  },
  {
   "cell_type": "markdown",
   "metadata": {},
   "source": [
    "##  Karst Terrains of Arizona\n",
    "\n",
    "### Carbonate Karst Provinces\n",
    "\n",
    "#### Kaibab Plateau & Grand Canyon\n",
    "\n",
    "> Karstified Kaibab Limestone and the Redwall–Muav aquifer feed major springs like Roaring Springs (Hill & Polyak, 2010).\n",
    "\n",
    "> Recharge sources include snowmelt, monsoon rain, and focused infiltration via sinkholes, fractures, and breccia pipes.\n",
    "\n",
    "> Dye tracing (Jones et al., 2018; Hansen, 2019) has confirmed large conduit systems and climate-sensitive flow patterns (Donovan et al., 2022).\n",
    "\n",
    "#### Mogollon Rim & Verde Valley\n",
    "\n",
    "> Thick Paleozoic carbonates exposed along the escarpment recharge the C-aquifer and underlying limestones (Parker et al., 2004).\n",
    "\n",
    "> ~1.73 million acre-feet of precipitation falls annually; ~8% recharges regional aquifers, with 40% of limestone aquifer recharge from C-aquifer leakage.\n",
    "\n",
    "\n",
    "### Evaporite Karst Provinces\n",
    "\n",
    "#### Holbrook Basin\n",
    "\n",
    "- More than 500 fissures and sinkholes from dissolution of Permian Supai salt and gypsum (Neal, 1998; Neal & Colpitts, 1997a).\n",
    "\n",
    "**Features include:**\n",
    "\n",
    "> Dry Lake Valley – 325 km² internally drained basin with active sinkhole formation.\n",
    "\n",
    "> The Sinks – >300 features near Snowflake; concentrated along the Holbrook Anticline.\n",
    "\n",
    "> McCauley Sinks – >50 deep sinkholes, possibly composite breccia pipes.\n",
    "\n",
    "> Richard Lake, Ortega Sink, Navajo Springs – internally drained basins with large collapse features.\n",
    "\n",
    "- Collapse propagates upward from dissolved salt beds, deforming overlying Coconino Sandstone and Kaibab Limestone.\n",
    "\n",
    "### Special Karst Features\n",
    "\n",
    "**Breccia Pipes (Northern Arizona)**\n",
    "\n",
    "- Vertical, pipe-like collapse structures in Paleozoic and Triassic strata, typically tens of meters wide and hundreds of meters deep.\n",
    "\n",
    "- Formed by dissolution of Redwall Limestone along fractures, causing collapse of overlying rocks.\n",
    "\n",
    "> At least 1,300 identified in the Grand Canyon region (Sutphin & Wenrich, 1989; Brown & Billingsley, 2010).\n",
    "\n",
    "> Some host uranium ore (Wenrich & Titley, 2008); others may have acted as ancient recharge pathways.\n",
    "\n",
    "**Hypogene Karst in Grand Canyon**\n",
    "\n",
    "- Confined caves in Redwall Limestone (hypogene origin) and unconfined caves in Muav Limestone.\n",
    "\n",
    "- Hypogene systems formed by fluids rising from depth, not just surface infiltration (Hill & Polyak, 2010)."
   ]
  },
  {
   "cell_type": "markdown",
   "metadata": {},
   "source": [
    "##  Methods for Mapping Karst Vulnerability and Recharge Potential\n"
   ]
  },
  {
   "cell_type": "markdown",
   "metadata": {},
   "source": [
    "##  Current Work and Data Gaps\n",
    "\n",
    "**Current progress**\n",
    "\n",
    "- Grand Canyon National Park has a well-established karst inventory and ongoing research on hypogene caves and recharge dynamics through dry tracing and springs monitoring.\n",
    "\n",
    "- Statewide lineament mapping has been completed using 10m DEMs, however work is needed to validate and refine these features.\n",
    "\n",
    "- Mogollon Rim sinkhole mapping in progress.\n",
    "\n",
    "- Springer Lab has been monitoring springs in the Kaibab Plateau and Mogollon Rim areas, focusing on water quality and flow dynamics.\n",
    "\n",
    "- Springer lab recently aquired a benchtop flourescence spectrometer to support dye tracing and water quality monitoring.\n",
    "\n",
    "**Data gaps**\n",
    "\n",
    "1. No Statewide karst feature database exists, limiting understanding of karst distribution and recharge potential.\n",
    "\n",
    "2. Incomplete 1:24k geologic mapping in karst terrains.\n",
    "\n",
    "3. limited dye tracing beyond the Kaibab Plateau and Grand Canyon.\n",
    "\n",
    "5. Lack of coordinated interagency approach to karst research and management."
   ]
  },
  {
   "cell_type": "markdown",
   "metadata": {},
   "source": [
    "##  Recommendations\n",
    "\n",
    "1. Establish Arizona Karst Feature Database – consolidate sinkholes, caves, springs, breccia pipes, and dye-trace results.\n",
    "\n",
    "2. Complete 1:24k mapping in carbonate and evaporite belts.\n",
    "\n",
    "3. Expand dye tracing & spring monitoring statewide.\n",
    "\n",
    "4. Integrate sinkhole and lineament datasets to target ORE and MAR sites.\n",
    "\n",
    "5. Form Arizona Karst Working Group – AZGS, USGS, NPS, USFS, ADWR, universities.\n",
    "\n",
    "6. Coordinate with Grand Canyon’s karst program for method transfer and joint research."
   ]
  },
  {
   "cell_type": "markdown",
   "metadata": {},
   "source": [
    "##  Conclusion\n",
    "\n",
    "- Arizona's karst aquifers represent a significant, but under-documented, water resource.\n",
    "- Recharge opportunities exist, espeically in high-karst areas like the Kaibab Plateau and Mogollon Rim\n",
    "- Coordinated, well-funded statewide effort could unlock these opoprtunities and improve both water supply and ecosystem reslience.\n",
    "\n"
   ]
  },
  {
   "cell_type": "markdown",
   "metadata": {},
   "source": [
    "## Literature Reviewed\n",
    "\n",
    "[Link to Google Doc](https://docs.google.com/spreadsheets/d/1DqNXqxHH6nxKWdOpNTpD1daRn8tsU53mV59tp-z9eVA/edit?usp=sharing)"
   ]
  },
  {
   "cell_type": "code",
   "execution_count": null,
   "metadata": {},
   "outputs": [],
   "source": []
  },
  {
   "cell_type": "markdown",
   "metadata": {},
   "source": [
    "## References {.unnumbered}\n",
    "\n",
    ":::{#refs}\n",
    "\n",
    ":::"
   ]
  }
 ],
 "metadata": {
  "kernelspec": {
   "display_name": ".venv",
   "language": "python",
   "name": "python3"
  },
  "language_info": {
   "codemirror_mode": {
    "name": "ipython",
    "version": 3
   },
   "file_extension": ".py",
   "mimetype": "text/x-python",
   "name": "python",
   "nbconvert_exporter": "python",
   "pygments_lexer": "ipython3",
   "version": "3.13.1"
  }
 },
 "nbformat": 4,
 "nbformat_minor": 4
}
