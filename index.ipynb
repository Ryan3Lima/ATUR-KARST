{
 "cells": [
  {
   "cell_type": "markdown",
   "metadata": {},
   "source": [
    "---\n",
    "title: La Palma Earthquakes\n",
    "author:\n",
    "  - name: Steve Purves\n",
    "    orcid: 0000-0002-0760-5497\n",
    "    corresponding: true\n",
    "    email: steve@curvenote.com\n",
    "    roles:\n",
    "      - Investigation\n",
    "      - Project administration\n",
    "      - Software\n",
    "      - Visualization\n",
    "    affiliations:\n",
    "      - Curvenote\n",
    "  - name: Rowan Cockett\n",
    "    orcid: 0000-0002-7859-8394\n",
    "    corresponding: false\n",
    "    roles: []\n",
    "    affiliations:\n",
    "      - Curvenote\n",
    "keywords:\n",
    "  - La Palma\n",
    "  - Earthquakes\n",
    "abstract: |\n",
    "  In September 2021, a significant jump in seismic activity on the island of La Palma (Canary Islands, Spain) signaled the start of a volcanic crisis that still continues at the time of writing. Earthquake data is continually collected and published by the Instituto Geográphico Nacional (IGN). ...\n",
    "plain-language-summary: |\n",
    "  Earthquake data for the island of La Palma from the September 2021 eruption is found ...\n",
    "key-points:\n",
    "  - A web scraping script was developed to pull data from the Instituto Geogràphico Nacional into a machine-readable form for analysis\n",
    "  - Earthquake events on La Palma are consistent with the presence of both mantle and crustal reservoirs.\n",
    "date: last-modified\n",
    "bibliography: references.bib\n",
    "citation:\n",
    "  container-title: Earth and Space Science\n",
    "number-sections: true\n",
    "---"
   ]
  },
  {
   "cell_type": "markdown",
   "metadata": {
    "tags": []
   },
   "source": [
    "## Introduction\n"
   ]
  },
  {
   "cell_type": "code",
   "execution_count": 1,
   "metadata": {
    "tags": []
   },
   "outputs": [],
   "source": [
    "import matplotlib.pyplot as plt\n",
    "import numpy as np\n",
    "eruptions = [1492, 1585, 1646, 1677, 1712, 1949, 1971, 2021]"
   ]
  },
  {
   "cell_type": "code",
   "execution_count": 2,
   "metadata": {
    "tags": []
   },
   "outputs": [
    {
     "data": {
      "image/png": "[encoded data removed]",
      "text/plain": [
       "<Figure size 600x100 with 1 Axes>"
      ]
     },
     "metadata": {},
     "output_type": "display_data"
    }
   ],
   "source": [
    "#| label: fig-timeline\n",
    "#| fig-cap: Timeline of recent earthquakes on La Palma\n",
    "#| fig-alt: An event plot of the years of the last 8 eruptions on La Palma.\n",
    "\n",
    "plt.figure(figsize=(6, 1))\n",
    "plt.eventplot(eruptions, lineoffsets=0, linelengths=0.1, color='black')\n",
    "plt.gca().axes.get_yaxis().set_visible(False)\n",
    "plt.ylabel('')\n",
    "plt.show()"
   ]
  },
  {
   "cell_type": "code",
   "execution_count": 3,
   "metadata": {
    "tags": []
   },
   "outputs": [
    {
     "data": {
      "text/plain": [
       "79.83333333333333"
      ]
     },
     "execution_count": 3,
     "metadata": {},
     "output_type": "execute_result"
    }
   ],
   "source": [
    "#| output: false\n",
    "avg_years_between_eruptions = np.mean(np.diff(eruptions[:-1]))\n",
    "avg_years_between_eruptions"
   ]
  },
  {
   "cell_type": "markdown",
   "metadata": {},
   "source": [
    "Based on data up to and including 1971, eruptions on La Palma happen every 79.8 years on average."
   ]
  },
  {
   "cell_type": "markdown",
   "metadata": {},
   "source": [
    "Studies of the magma systems feeding the volcano, such as @marrero2019, have proposed that there are two main magma reservoirs feeding the Cumbre Vieja volcano; one in the mantle (30-40km depth) which charges and in turn feeds a shallower crustal reservoir (10-20km depth)."
   ]
  },
  {
   "cell_type": "markdown",
   "metadata": {},
   "source": [
    "Eight eruptions have been recorded since the late 1400s (@fig-timeline)."
   ]
  },
  {
   "cell_type": "markdown",
   "metadata": {},
   "source": [
    "Data and methods are discussed in @sec-data-methods."
   ]
  },
  {
   "cell_type": "markdown",
   "metadata": {},
   "source": [
    "Let $x$ denote the number of eruptions in a year. Then, $x$ can be modeled by a Poisson distribution\n",
    "\n",
    "$$\n",
    "p(x) = \\frac{e^{-\\lambda} \\lambda^{x}}{x !}\n",
    "$$ {#eq-poisson}\n",
    "\n",
    "where $\\lambda$ is the rate of eruptions per year. Using @eq-poisson, the probability of an eruption in the next $t$ years can be calculated."
   ]
  },
  {
   "cell_type": "markdown",
   "metadata": {},
   "source": [
    "| Name                 | Year   |\n",
    "| -------------------- | ------ |\n",
    "| Current              | 2021   |\n",
    "| Teneguía             | 1971   |\n",
    "| Nambroque            | 1949   |\n",
    "| El Charco            | 1712   |\n",
    "| Volcán San Antonio   | 1677   |\n",
    "| Volcán San Martin    | 1646   |\n",
    "| Tajuya near El Paso  | 1585   |\n",
    "| Montaña Quemada      | 1492   |\n",
    "\n",
    ": Recent historic eruptions on La Palma {#tbl-history}\n",
    "\n",
    "@tbl-history summarises the eruptions recorded since the colonization of the islands by Europeans in the late 1400s."
   ]
  },
  {
   "cell_type": "markdown",
   "metadata": {},
   "source": [
    "![Map of La Palma](images/la-palma-map.png){#fig-map}\n",
    "\n",
    "La Palma is one of the west most islands in the Volcanic Archipelago of the Canary Islands (@fig-map). "
   ]
  },
  {
   "cell_type": "markdown",
   "metadata": {},
   "source": [
    "{{< embed notebooks/data-screening.ipynb#fig-spatial-plot >}}\n",
    "\n",
    "@fig-spatial-plot shows the location of recent Earthquakes on La Palma."
   ]
  },
  {
   "cell_type": "markdown",
   "metadata": {},
   "source": [
    "## Data & Methods {#sec-data-methods}"
   ]
  },
  {
   "cell_type": "markdown",
   "metadata": {},
   "source": [
    "## Conclusion"
   ]
  },
  {
   "cell_type": "markdown",
   "metadata": {},
   "source": [
    "## References {.unnumbered}\n",
    "\n",
    ":::{#refs}\n",
    "\n",
    ":::"
   ]
  }
 ],
 "metadata": {
  "kernelspec": {
   "display_name": "Python 3 (ipykernel)",
   "language": "python",
   "name": "python3"
  },
  "language_info": {
   "codemirror_mode": {
    "name": "ipython",
    "version": 3
   },
   "file_extension": ".py",
   "mimetype": "text/x-python",
   "name": "python",
   "nbconvert_exporter": "python",
   "pygments_lexer": "ipython3",
   "version": "3.11.4"
  }
 },
 "nbformat": 4,
 "nbformat_minor": 4
}
