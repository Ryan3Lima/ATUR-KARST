{
 "cells": [
  {
   "cell_type": "code",
   "execution_count": 5,
   "id": "20db3f63-31f1-40cc-a450-9fd10c12d831",
   "metadata": {},
   "outputs": [
    {
     "name": "stderr",
     "output_type": "stream",
     "text": [
      "ERROR: Could not find a version that satisfies the requirement pci.api (from versions: none)\n",
      "ERROR: No matching distribution found for pci.api\n"
     ]
    }
   ],
   "source": [
    "#%pip install pci\n",
    "!pip install pci.api\n"
   ]
  },
  {
   "cell_type": "code",
   "execution_count": 2,
   "id": "d72ec58c-4a0e-48dc-b9e7-3eafd20de07d",
   "metadata": {},
   "outputs": [],
   "source": [
    "import os\n",
    "import pci"
   ]
  },
  {
   "cell_type": "code",
   "execution_count": 3,
   "id": "6ed4f573-c3ae-409b-89a8-cd36cf49e8dc",
   "metadata": {},
   "outputs": [
    {
     "ename": "ModuleNotFoundError",
     "evalue": "No module named 'pci.api'",
     "output_type": "error",
     "traceback": [
      "\u001b[1;31m---------------------------------------------------------------------------\u001b[0m",
      "\u001b[1;31mModuleNotFoundError\u001b[0m                       Traceback (most recent call last)",
      "Cell \u001b[1;32mIn[3], line 1\u001b[0m\n\u001b[1;32m----> 1\u001b[0m \u001b[38;5;28;01mfrom\u001b[39;00m \u001b[38;5;21;01mpci\u001b[39;00m\u001b[38;5;21;01m.\u001b[39;00m\u001b[38;5;21;01mapi\u001b[39;00m \u001b[38;5;28;01mimport\u001b[39;00m datasource\n",
      "\u001b[1;31mModuleNotFoundError\u001b[0m: No module named 'pci.api'"
     ]
    }
   ],
   "source": [
    "from pci.api import datasource"
   ]
  }
 ],
 "metadata": {
  "kernelspec": {
   "display_name": "Python 3 (ipykernel)",
   "language": "python",
   "name": "python3"
  },
  "language_info": {
   "codemirror_mode": {
    "name": "ipython",
    "version": 3
   },
   "file_extension": ".py",
   "mimetype": "text/x-python",
   "name": "python",
   "nbconvert_exporter": "python",
   "pygments_lexer": "ipython3",
   "version": "3.9.20"
  }
 },
 "nbformat": 4,
 "nbformat_minor": 5
}
