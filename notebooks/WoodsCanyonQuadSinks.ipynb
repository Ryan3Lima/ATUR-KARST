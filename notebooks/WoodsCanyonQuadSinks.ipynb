{
 "cells": [
  {
   "cell_type": "code",
   "execution_count": 1,
   "id": "6bf7dfe6-0616-4c13-a416-64b61cd945c0",
   "metadata": {},
   "outputs": [
    {
     "ename": "ModuleNotFoundError",
     "evalue": "No module named 'WBT'",
     "output_type": "error",
     "traceback": [
      "\u001b[1;31m---------------------------------------------------------------------------\u001b[0m",
      "\u001b[1;31mModuleNotFoundError\u001b[0m                       Traceback (most recent call last)",
      "Cell \u001b[1;32mIn[1], line 4\u001b[0m\n\u001b[0;32m      2\u001b[0m \u001b[38;5;28;01mimport\u001b[39;00m \u001b[38;5;21;01mpkg_resources\u001b[39;00m\n\u001b[0;32m      3\u001b[0m \u001b[38;5;28;01mimport\u001b[39;00m \u001b[38;5;21;01mwhitebox\u001b[39;00m\n\u001b[1;32m----> 4\u001b[0m \u001b[38;5;28;01mfrom\u001b[39;00m \u001b[38;5;21;01mWBT\u001b[39;00m\u001b[38;5;21;01m.\u001b[39;00m\u001b[38;5;21;01mwhitebox_tools\u001b[39;00m \u001b[38;5;28;01mimport\u001b[39;00m WhiteboxTools\n\u001b[0;32m      5\u001b[0m wbt \u001b[38;5;241m=\u001b[39m WhiteboxTools()\n\u001b[0;32m      6\u001b[0m wbt\u001b[38;5;241m.\u001b[39minstall_wbt_extension()\n",
      "\u001b[1;31mModuleNotFoundError\u001b[0m: No module named 'WBT'"
     ]
    }
   ],
   "source": [
    "import os\n",
    "import pkg_resources\n",
    "import whitebox\n",
    "from WBT.whitebox_tools import WhiteboxTools\n",
    "wbt = WhiteboxTools()\n",
    "wbt.install_wbt_extension()\n"
   ]
  },
  {
   "cell_type": "code",
   "execution_count": null,
   "id": "0e770e76-f90e-4cd1-a0bc-ffd25e258592",
   "metadata": {},
   "outputs": [],
   "source": []
  }
 ],
 "metadata": {
  "kernelspec": {
   "display_name": "Python 3 (ipykernel)",
   "language": "python",
   "name": "python3"
  },
  "language_info": {
   "codemirror_mode": {
    "name": "ipython",
    "version": 3
   },
   "file_extension": ".py",
   "mimetype": "text/x-python",
   "name": "python",
   "nbconvert_exporter": "python",
   "pygments_lexer": "ipython3",
   "version": "3.12.4"
  }
 },
 "nbformat": 4,
 "nbformat_minor": 5
}
