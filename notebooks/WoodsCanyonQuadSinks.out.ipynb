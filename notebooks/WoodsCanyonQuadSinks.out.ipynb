{
 "cells": [
  {
   "cell_type": "markdown",
   "metadata": {},
   "source": [
    "#"
   ],
   "id": "9b1917b0-92e8-4fd7-b454-0bdb9abcba4a"
  },
  {
   "cell_type": "code",
   "execution_count": 1,
   "metadata": {},
   "outputs": [],
   "source": [
    "import os\n",
    "import pkg_resources\n",
    "import whitebox\n",
    "from WBT.whitebox_tools import WhiteboxTools\n",
    "wbt = WhiteboxTools()\n",
    "wbt.install_wbt_extension()\n"
   ],
   "id": "6bf7dfe6-0616-4c13-a416-64b61cd945c0"
  }
 ],
 "nbformat": 4,
 "nbformat_minor": 5,
 "metadata": {}
}
