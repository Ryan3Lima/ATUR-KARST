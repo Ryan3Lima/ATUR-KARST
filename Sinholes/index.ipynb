{
 "cells": [
  {
   "cell_type": "raw",
   "id": "60985186-a01b-4fed-b7c4-6f6695bfd3de",
   "metadata": {},
   "source": [
    "---\n",
    "title: Semi-Automated Mapping of sinkholes and sinkhole density across Arizona \n",
    "author:\n",
    "  - name:\n",
    "      given: Ryan E.\n",
    "      family: Lima\n",
    "    orcid: 0000-0002-5352-7215\n",
    "    corresponding: true\n",
    "    email: ryan.lima@nau.edu\n",
    "    roles:\n",
    "      - Investigation    \n",
    "      - Software\n",
    "      - Visualization\n",
    "    affiliations:\n",
    "      - Northern Arizona University\n",
    "      - School of Informatics, Computing & Cyber Systems\n",
    "      - School of Earth and Sustainability\n",
    "  - name: Abraham E. Springer\n",
    "    corresponding: false\n",
    "    roles: []\n",
    "    affiliations:\n",
    "      - Northern Arizona University\n",
    "      - School of Earth and Sustainability\n",
    "  - name: Temuulen Tsagaan Sankey\n",
    "    corresponding: false\n",
    "    roles: []\n",
    "    affiliations:\n",
    "      - Northern Arizona University\n",
    "      - School of Informatics, Computing & Cyber Systems\n",
    "keywords:\n",
    "  - Karst\n",
    "  - sinkholes\n",
    "  - dolines\n",
    "  - GIS\n",
    "  - Recharge\n",
    "  - Arizona\n",
    "  - Opportunistic Recharge Enhancement\n",
    "\n",
    "abstract: |\n",
    "\n",
    "abstract text\n",
    "  \n",
    "\n",
    "key-points:\n",
    "  - Key point 1\n",
    "  - Key point 2 \n",
    "date: last-modified\n",
    "bibliography: references.bib\n",
    "citation:\n",
    "  container-title: Journal Name\n",
    "number-sections: true\n",
    "---"
   ]
  },
  {
   "cell_type": "markdown",
   "id": "1b6c5439-b17f-477d-8443-ef4860f85309",
   "metadata": {},
   "source": [
    "# Introduction {#sec-intro}"
   ]
  },
  {
   "cell_type": "markdown",
   "id": "850e9be3-b912-413c-899c-9d09caafe71d",
   "metadata": {},
   "source": [
    "## Sinkholes {#sec-intro-lineaments}"
   ]
  },
  {
   "cell_type": "markdown",
   "id": "4d695532-6cd2-4fb7-89ce-c1e00e88262d",
   "metadata": {},
   "source": [
    "### Sinkhole Identification Methods"
   ]
  },
  {
   "cell_type": "markdown",
   "id": "ead5dba3-775a-4e59-a0dc-90fb39bbaa82",
   "metadata": {},
   "source": [
    "## Groundwater Recharge Suitability Mapping {#sec-intro-groundwater}"
   ]
  },
  {
   "cell_type": "markdown",
   "id": "52951214-256c-4de2-a7b3-7e4fe91ec56b",
   "metadata": {},
   "source": [
    "# Methods {#sec-methods}"
   ]
  },
  {
   "cell_type": "markdown",
   "id": "445ef05b-7f55-4e40-ba94-39bb5aca549e",
   "metadata": {},
   "source": [
    "# Results {#sec-results}"
   ]
  },
  {
   "cell_type": "markdown",
   "id": "d88c428c-86db-46ef-ba6f-a646900998f7",
   "metadata": {},
   "source": [
    "# Discussion {#sec-discussion}"
   ]
  },
  {
   "cell_type": "markdown",
   "id": "456ce95f-d9e5-430e-be56-3a0d8629f021",
   "metadata": {},
   "source": [
    "# Conclusions {#sec-conclusions}"
   ]
  },
  {
   "cell_type": "markdown",
   "id": "3f8dca9c-2029-438c-bdf4-c61f29bb1150",
   "metadata": {},
   "source": [
    "# Works Cited {#sec-workscited}"
   ]
  }
 ],
 "metadata": {
  "kernelspec": {
   "display_name": "Python 3 (ipykernel)",
   "language": "python",
   "name": "python3"
  },
  "language_info": {
   "codemirror_mode": {
    "name": "ipython",
    "version": 3
   },
   "file_extension": ".py",
   "mimetype": "text/x-python",
   "name": "python",
   "nbconvert_exporter": "python",
   "pygments_lexer": "ipython3",
   "version": "3.9.20"
  }
 },
 "nbformat": 4,
 "nbformat_minor": 5
}
