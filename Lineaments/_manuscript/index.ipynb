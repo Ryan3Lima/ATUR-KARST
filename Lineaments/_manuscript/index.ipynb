{
 "cells": [
  {
   "cell_type": "raw",
   "id": "60985186-a01b-4fed-b7c4-6f6695bfd3de",
   "metadata": {},
   "source": [
    "---\n",
    "title: Using automated lineament extraction to map lineament density across Arizona \n",
    "author:\n",
    "  - name:\n",
    "      given: Ryan E.\n",
    "      family: Lima\n",
    "    orcid: 0000-0002-5352-7215\n",
    "    corresponding: true\n",
    "    email: ryan.lima@nau.edu\n",
    "    roles:\n",
    "      - Investigation    \n",
    "      - Software\n",
    "      - Visualization\n",
    "    affiliations:\n",
    "      - Northern Arizona University\n",
    "      - School of Informatics, Computing & Cyber Systems\n",
    "      - School of Earth and Sustainability\n",
    "  - name: Abraham E. Springer\n",
    "    corresponding: false\n",
    "    roles: []\n",
    "    affiliations:\n",
    "      - Northern Arizona University\n",
    "      - School of Earth and Sustainability\n",
    "  - name: Temuulen Tsagaan Sankey\n",
    "    corresponding: false\n",
    "    roles: []\n",
    "    affiliations:\n",
    "      - Northern Arizona University\n",
    "      - School of Informatics, Computing & Cyber Systems\n",
    "keywords:\n",
    "  - Karst\n",
    "  - Recharge\n",
    "  - Arizona\n",
    "  - Opportunistic Recharge Enhancement\n",
    "abstract: |\n",
    "    A modified version of the LINE algorithm was used to perform automated segmentation of lineaments from 1m lidar-derived DEMs from the National Elevation Dataset to map lineament density across the state of Arizona. Lineaments are linear features on the landscape. Topograpic suface lineaments, excluding man-made lineaments such as roads, may have direct or indirect relationships to sub-surface geologic structures such as faults, fractures, or discontinuities in bedrock. Faults and fractures may be locations of high permeability and concetrated groundwater flow. Efforts to map potential recharge zones in Arizona are hampered by the lack of mapped lineaments across much of the state. The lineament density map produced here is a first step to state-wide mapping of potential recharge zones--particularly in areas underlain by cabonate, evaporites, or volcanic pseudokarst--and the formation of a karst features database. \n",
    "  \n",
    "\n",
    "key-points:\n",
    "  - Key point 1\n",
    "  - Key point 2 \n",
    "date: last-modified\n",
    "bibliography: references.bib\n",
    "citation:\n",
    "  container-title: Journal Name\n",
    "number-sections: true\n",
    "---"
   ]
  },
  {
   "cell_type": "markdown",
   "id": "1b6c5439-b17f-477d-8443-ef4860f85309",
   "metadata": {},
   "source": [
    "# Introduction {#sec-intro}"
   ]
  },
  {
   "cell_type": "markdown",
   "id": "850e9be3-b912-413c-899c-9d09caafe71d",
   "metadata": {},
   "source": [
    "## Lineaments {#sec-intro-lineaments}"
   ]
  },
  {
   "cell_type": "markdown",
   "id": "4d695532-6cd2-4fb7-89ce-c1e00e88262d",
   "metadata": {},
   "source": [
    "### Lineament Extraction Methods"
   ]
  },
  {
   "cell_type": "markdown",
   "id": "ead5dba3-775a-4e59-a0dc-90fb39bbaa82",
   "metadata": {},
   "source": [
    "## Groundwater Recharge Suitability Mapping {#sec-intro-groundwater}"
   ]
  },
  {
   "cell_type": "markdown",
   "id": "52951214-256c-4de2-a7b3-7e4fe91ec56b",
   "metadata": {},
   "source": [
    "# Methods {#sec-methods}"
   ]
  },
  {
   "cell_type": "markdown",
   "id": "bd1f55d8-c6ac-433a-9ab0-41c95414e543",
   "metadata": {},
   "source": [
    "## Modified LINE algorithm\n",
    "\n",
    "```{mermaid}\n",
    "graph LR\n",
    "A{DEM}-->B[Smoothing]\n",
    "    B --> C[Canny Edge Detection]\n",
    "    C --> D[Extract Contours]\n",
    "    D --> E[Simplify Countours]\n",
    "    E --> F[Filter Curves]\n",
    "    F --> G[Recover Curves]\n",
    "    G --> H[Link Curves]\n",
    "    H --> I{Potential Lineament Shapefile}\n",
    "```\n"
   ]
  },
  {
   "cell_type": "markdown",
   "id": "663c7fda-3fcc-43d0-9991-b8e53b9d44e7",
   "metadata": {},
   "source": [
    "## Smoothing {#sec-methods-smooth}"
   ]
  },
  {
   "cell_type": "markdown",
   "id": "cf7dc038-fd44-492e-8db1-6f552665d14d",
   "metadata": {},
   "source": [
    "## Edge Detection {#sec-methods-edge}"
   ]
  },
  {
   "cell_type": "markdown",
   "id": "0ccda957-a1fb-4b4d-953a-6b7dff322184",
   "metadata": {},
   "source": [
    "## Extract Contours {#sec-methods-excontour}"
   ]
  },
  {
   "cell_type": "markdown",
   "id": "3cc01c42-b15b-48a5-a45f-732ce84e714a",
   "metadata": {},
   "source": [
    "## Simplify Contours {#sec-methods-simcontour}"
   ]
  },
  {
   "cell_type": "markdown",
   "id": "2cee4c6a-1839-40c9-a201-fee50737e578",
   "metadata": {},
   "source": [
    "## Filter Curves {#sec-methods-fitcurve}"
   ]
  },
  {
   "cell_type": "markdown",
   "id": "4f5b5b4e-3c63-45ce-8f5c-b246fd13a2b8",
   "metadata": {},
   "source": [
    "## Recover Curves {#sec-methods-reccurve}"
   ]
  },
  {
   "cell_type": "markdown",
   "id": "129e3c97-d42b-4b7f-8be5-30e05aad9c02",
   "metadata": {},
   "source": [
    "## Link Curves {#sec-methods-linkcurve}"
   ]
  },
  {
   "cell_type": "markdown",
   "id": "1b840f9a-f67e-4977-a78c-b58fb08ee116",
   "metadata": {},
   "source": [
    "## Parameters {#sec-methods-paramters}"
   ]
  },
  {
   "cell_type": "markdown",
   "id": "445ef05b-7f55-4e40-ba94-39bb5aca549e",
   "metadata": {},
   "source": [
    "# Results {#sec-results}"
   ]
  },
  {
   "cell_type": "markdown",
   "id": "d88c428c-86db-46ef-ba6f-a646900998f7",
   "metadata": {},
   "source": [
    "# Discussion {#sec-discussion}"
   ]
  },
  {
   "cell_type": "markdown",
   "id": "456ce95f-d9e5-430e-be56-3a0d8629f021",
   "metadata": {},
   "source": [
    "# Conclusions {#sec-conclusions}"
   ]
  },
  {
   "cell_type": "markdown",
   "id": "3f8dca9c-2029-438c-bdf4-c61f29bb1150",
   "metadata": {},
   "source": [
    "# Works Cited {#sec-workscited}"
   ]
  }
 ],
 "metadata": {
  "kernelspec": {
   "display_name": "Python 3 (ipykernel)",
   "language": "python",
   "name": "python3"
  },
  "language_info": {
   "codemirror_mode": {
    "name": "ipython",
    "version": 3
   },
   "file_extension": ".py",
   "mimetype": "text/x-python",
   "name": "python",
   "nbconvert_exporter": "python",
   "pygments_lexer": "ipython3",
   "version": "3.9.20"
  }
 },
 "nbformat": 4,
 "nbformat_minor": 5
}
