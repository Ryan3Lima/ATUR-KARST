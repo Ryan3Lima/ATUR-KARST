{
 "cells": [
  {
   "cell_type": "markdown",
   "metadata": {},
   "source": [
    "# Using automated lineament extraction to map lineament density across\n",
    "\n",
    "Arizona\n",
    "\n",
    "Ryan E. Lima [![](data:image/png;base64,iVBORw0KGgoAAAANSUhEUgAAABAAAAAQCAYAAAAf8/9hAAAAGXRFWHRTb2Z0d2FyZQBBZG9iZSBJbWFnZVJlYWR5ccllPAAAA2ZpVFh0WE1MOmNvbS5hZG9iZS54bXAAAAAAADw/eHBhY2tldCBiZWdpbj0i77u/IiBpZD0iVzVNME1wQ2VoaUh6cmVTek5UY3prYzlkIj8+IDx4OnhtcG1ldGEgeG1sbnM6eD0iYWRvYmU6bnM6bWV0YS8iIHg6eG1wdGs9IkFkb2JlIFhNUCBDb3JlIDUuMC1jMDYwIDYxLjEzNDc3NywgMjAxMC8wMi8xMi0xNzozMjowMCAgICAgICAgIj4gPHJkZjpSREYgeG1sbnM6cmRmPSJodHRwOi8vd3d3LnczLm9yZy8xOTk5LzAyLzIyLXJkZi1zeW50YXgtbnMjIj4gPHJkZjpEZXNjcmlwdGlvbiByZGY6YWJvdXQ9IiIgeG1sbnM6eG1wTU09Imh0dHA6Ly9ucy5hZG9iZS5jb20veGFwLzEuMC9tbS8iIHhtbG5zOnN0UmVmPSJodHRwOi8vbnMuYWRvYmUuY29tL3hhcC8xLjAvc1R5cGUvUmVzb3VyY2VSZWYjIiB4bWxuczp4bXA9Imh0dHA6Ly9ucy5hZG9iZS5jb20veGFwLzEuMC8iIHhtcE1NOk9yaWdpbmFsRG9jdW1lbnRJRD0ieG1wLmRpZDo1N0NEMjA4MDI1MjA2ODExOTk0QzkzNTEzRjZEQTg1NyIgeG1wTU06RG9jdW1lbnRJRD0ieG1wLmRpZDozM0NDOEJGNEZGNTcxMUUxODdBOEVCODg2RjdCQ0QwOSIgeG1wTU06SW5zdGFuY2VJRD0ieG1wLmlpZDozM0NDOEJGM0ZGNTcxMUUxODdBOEVCODg2RjdCQ0QwOSIgeG1wOkNyZWF0b3JUb29sPSJBZG9iZSBQaG90b3Nob3AgQ1M1IE1hY2ludG9zaCI+IDx4bXBNTTpEZXJpdmVkRnJvbSBzdFJlZjppbnN0YW5jZUlEPSJ4bXAuaWlkOkZDN0YxMTc0MDcyMDY4MTE5NUZFRDc5MUM2MUUwNEREIiBzdFJlZjpkb2N1bWVudElEPSJ4bXAuZGlkOjU3Q0QyMDgwMjUyMDY4MTE5OTRDOTM1MTNGNkRBODU3Ii8+IDwvcmRmOkRlc2NyaXB0aW9uPiA8L3JkZjpSREY+IDwveDp4bXBtZXRhPiA8P3hwYWNrZXQgZW5kPSJyIj8+84NovQAAAR1JREFUeNpiZEADy85ZJgCpeCB2QJM6AMQLo4yOL0AWZETSqACk1gOxAQN+cAGIA4EGPQBxmJA0nwdpjjQ8xqArmczw5tMHXAaALDgP1QMxAGqzAAPxQACqh4ER6uf5MBlkm0X4EGayMfMw/Pr7Bd2gRBZogMFBrv01hisv5jLsv9nLAPIOMnjy8RDDyYctyAbFM2EJbRQw+aAWw/LzVgx7b+cwCHKqMhjJFCBLOzAR6+lXX84xnHjYyqAo5IUizkRCwIENQQckGSDGY4TVgAPEaraQr2a4/24bSuoExcJCfAEJihXkWDj3ZAKy9EJGaEo8T0QSxkjSwORsCAuDQCD+QILmD1A9kECEZgxDaEZhICIzGcIyEyOl2RkgwAAhkmC+eAm0TAAAAABJRU5ErkJggg==)](https://orcid.org/0000-0002-5352-7215) (Northern Arizona University, School of Informatics, Computing & Cyber Systems, School of Earth and Sustainability)  \n",
    "Abraham E. Springer (Northern Arizona University, School of Earth and Sustainability)  \n",
    "Temuulen Tsagaan Sankey (Northern Arizona University, School of Informatics, Computing & Cyber Systems)  \n",
    "October 17, 2024\n",
    "\n",
    "A modified version of the LINE algorithm was used to perform automated segmentation of lineaments from 1m lidar-derived DEMs from the National Elevation Dataset to map lineament density across the state of Arizona. Lineaments are linear features on the landscape. Topograpic suface lineaments, excluding man-made lineaments such as roads, may have direct or indirect relationships to sub-surface geologic structures such as faults, fractures, or discontinuities in bedrock. Faults and fractures may be locations of high permeability and concetrated groundwater flow. Efforts to map potential recharge zones in Arizona are hampered by the lack of mapped lineaments across much of the state. The lineament density map produced here is a first step to state-wide mapping of potential recharge zones–particularly in areas underlain by cabonate, evaporites, or volcanic pseudokarst–and the formation of a karst features database."
   ],
   "id": "91723203-28c1-4194-b304-74137b762196"
  },
  {
   "cell_type": "markdown",
   "metadata": {},
   "source": [
    "# 1. Introduction"
   ],
   "id": "1b6c5439-b17f-477d-8443-ef4860f85309"
  },
  {
   "cell_type": "markdown",
   "metadata": {},
   "source": [
    "## 1.1 Lineaments"
   ],
   "id": "850e9be3-b912-413c-899c-9d09caafe71d"
  },
  {
   "cell_type": "markdown",
   "metadata": {},
   "source": [
    "### 1.1.1 Lineament Extraction Methods"
   ],
   "id": "4d695532-6cd2-4fb7-89ce-c1e00e88262d"
  },
  {
   "cell_type": "markdown",
   "metadata": {},
   "source": [
    "## 1.2 Groundwater Recharge Suitability Mapping"
   ],
   "id": "ead5dba3-775a-4e59-a0dc-90fb39bbaa82"
  },
  {
   "cell_type": "markdown",
   "metadata": {},
   "source": [
    "# 2. Methods"
   ],
   "id": "52951214-256c-4de2-a7b3-7e4fe91ec56b"
  },
  {
   "cell_type": "markdown",
   "metadata": {},
   "source": [
    "## 2.1 Modified LINE algorithm\n",
    "\n",
    "<figure class=''>\n",
    "\n",
    "<pre class=\"mermaid mermaid-js\">graph LR\n",
    "A{DEM}--&gt;B[Smoothing]\n",
    "    B --&gt; C[Canny Edge Detection]\n",
    "    C --&gt; D[Extract Contours]\n",
    "    D --&gt; E[Simplify Countours]\n",
    "    E --&gt; F[Filter Curves]\n",
    "    F --&gt; G[Recover Curves]\n",
    "    G --&gt; H[Link Curves]\n",
    "    H --&gt; I{Potential Lineament Shapefile}\n",
    "</pre>\n",
    "\n",
    "</figure>"
   ],
   "id": "bd1f55d8-c6ac-433a-9ab0-41c95414e543"
  },
  {
   "cell_type": "markdown",
   "metadata": {},
   "source": [
    "## 2.2 Smoothing"
   ],
   "id": "663c7fda-3fcc-43d0-9991-b8e53b9d44e7"
  },
  {
   "cell_type": "markdown",
   "metadata": {},
   "source": [
    "## 2.3 Edge Detection"
   ],
   "id": "cf7dc038-fd44-492e-8db1-6f552665d14d"
  },
  {
   "cell_type": "markdown",
   "metadata": {},
   "source": [
    "## 2.4 Extract Contours"
   ],
   "id": "0ccda957-a1fb-4b4d-953a-6b7dff322184"
  },
  {
   "cell_type": "markdown",
   "metadata": {},
   "source": [
    "## 2.5 Simplify Contours"
   ],
   "id": "3cc01c42-b15b-48a5-a45f-732ce84e714a"
  },
  {
   "cell_type": "markdown",
   "metadata": {},
   "source": [
    "## 2.6 Filter Curves"
   ],
   "id": "2cee4c6a-1839-40c9-a201-fee50737e578"
  },
  {
   "cell_type": "markdown",
   "metadata": {},
   "source": [
    "## 2.7 Recover Curves"
   ],
   "id": "4f5b5b4e-3c63-45ce-8f5c-b246fd13a2b8"
  },
  {
   "cell_type": "markdown",
   "metadata": {},
   "source": [
    "## 2.8 Link Curves"
   ],
   "id": "129e3c97-d42b-4b7f-8be5-30e05aad9c02"
  },
  {
   "cell_type": "markdown",
   "metadata": {},
   "source": [
    "## 2.9 Parameters"
   ],
   "id": "1b840f9a-f67e-4977-a78c-b58fb08ee116"
  },
  {
   "cell_type": "markdown",
   "metadata": {},
   "source": [
    "# 3. Results"
   ],
   "id": "445ef05b-7f55-4e40-ba94-39bb5aca549e"
  },
  {
   "cell_type": "markdown",
   "metadata": {},
   "source": [
    "# 4. Discussion"
   ],
   "id": "d88c428c-86db-46ef-ba6f-a646900998f7"
  },
  {
   "cell_type": "markdown",
   "metadata": {},
   "source": [
    "# 5. Conclusions"
   ],
   "id": "456ce95f-d9e5-430e-be56-3a0d8629f021"
  },
  {
   "cell_type": "markdown",
   "metadata": {},
   "source": [
    "# 6. Works Cited"
   ],
   "id": "3f8dca9c-2029-438c-bdf4-c61f29bb1150"
  }
 ],
 "nbformat": 4,
 "nbformat_minor": 5,
 "metadata": {}
}
