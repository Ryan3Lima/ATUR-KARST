





#\ echo: false
## install required libraries if not already installed 
#!pip install rasterio geopandas matplotlib






import rasterio
import geopandas as gpd
from rasterio.mask import mask
from rasterio.plot import show  
import matplotlib.pyplot as plt
from matplotlib.colors import LightSource
from shapely.geometry import box


dem_url = "https://prd-tnm.s3.amazonaws.com/StagedProducts/Elevation/13/TIFF/historical/n35w111/USGS_13_n35w111_20240402.tif"
shapefile_path = r"G:\Data\Arizona_HUC08plus\Elevation\WoodsCanyonQuad\WoodsCanyonQuad.shp"



# Step 1: Load the DEM from the National Map
#dem_url = "https://prd-tnm.s3.amazonaws.com/StagedProducts/Elevation/13/TIFF/historical/n35w111/USGS_13_n35w111_20240402.tif"

with rasterio.open(dem_url) as src:
    dem_data = src.read(1)
    dem_meta = src.meta


# Plot the DEM using imshow to allow colorbar creation
plt.figure(figsize=(10, 10))
plt.title("Loaded DEM")
plt.imshow(dem_data, cmap='terrain')
plt.colorbar(label='Elevation (m)')
plt.show()


# Step 2: Load the shapefile for masking
#shapefile_path = r"G:\Data\Arizona_HUC08plus\Elevation\WoodsCanyonQuad\WoodsCanyonQuad.shp"
shape_data = gpd.read_file(shapefile_path)

# Reproject the shapefile to the DEM's CRS (if necessary)
shape_data = shape_data.to_crs(dem_meta['crs'])

# Check if shapefile bounds intersect DEM bounds
dem_bounds = src.bounds
shape_bounds = shape_data.total_bounds
if not box(*dem_bounds).intersects(box(*shape_bounds)):
    print("Shapefile and DEM do not overlap. Please check the coordinates.")
else:
    print("Shapefile and DEM overlap.")

print("DEM bounds:", src.bounds)
print("Shapefile bounds:", shape_data.total_bounds)


# Step 3: Plot the DEM and shapefile to check overlap
plt.figure(figsize=(10, 10))
plt.title("DEM and Shapefile Overlay")

# Plot the DEM
plt.imshow(dem_data, cmap='terrain', extent=[src.bounds.left, src.bounds.right, src.bounds.bottom, src.bounds.top])

# Plot the shapefile geometry
shape_data.boundary.plot(ax=plt.gca(), color='red')
plt.show()


# Check the NoData value of the DEM
print("NoData value in DEM:", dem_meta['nodata'])

# Replace NoData values (if any) with NaN for easier visualization
masked_data = out_image[0]
masked_data[masked_data == dem_meta['nodata']] = float('nan')

# Plot the masked DEM
plt.figure(figsize=(10, 10))
plt.title("Masked DEM with NoData handled")
plt.imshow(masked_data, cmap='terrain')
plt.colorbar(label='Elevation (m)')
plt.show()



# Reproject the shapefile to match the DEM CRS (EPSG:4269)
shape_data = shape_data.to_crs(dem_meta['crs'])

# Verify CRS alignment
print("Shapefile CRS after reprojection:", shape_data.crs)

print("Masked DEM min value:", masked_data.min())
print("Masked DEM max value:", masked_data.max())
print("Masked DEM shape:", masked_data.shape)

print("DEM CRS:", dem_meta['crs'])
print("Shapefile CRS:", shape_data.crs)


# Step 3: Mask the DEM by the shapefile
with rasterio.open(dem_url) as src:
    out_image, out_transform = mask(src, shape_data.geometry, crop=True)
    out_meta = src.meta.copy()

# Update the metadata to reflect the mask and cropping
out_meta.update({"driver": "GTiff", "height": out_image.shape[1], "width": out_image.shape[2], "transform": out_transform})

# Plot the masked DEM to ensure the mask was applied correctly
plt.figure(figsize=(10, 10))
plt.title("Masked DEM")
plt.imshow(out_image[0], cmap='terrain')
plt.colorbar(label='Elevation (m)')
plt.show()


# Step 4: Reproject to UTM Zone 12N NAD 83 (2011)
utm_crs = 'EPSG:6341'  # UTM Zone 12N NAD 83 (2011)

transform, width, height = calculate_default_transform(
    out_meta['crs'], utm_crs, out_meta['width'], out_meta['height'], *src.bounds)
out_meta.update({
    'crs': utm_crs,
    'transform': transform,
    'width': width,
    'height': height
})

# Step 5: Display the masked DEM with a terrain colormap
ls = LightSource(azdeg=315, altdeg=45)  # Add lighting for terrain effect
hillshade = ls.hillshade(out_image[0], vert_exag=1, dx=1, dy=1)

plt.figure(figsize=(10, 10))
plt.imshow(hillshade, cmap='terrain')
plt.colorbar(label='Elevation (m)')
plt.title('Terrain DEM')
plt.show()
