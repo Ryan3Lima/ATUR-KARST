





#| echo: false
## install required libraries if not already installed 
#!pip install rasterio geopandas matplotlib
!pip install whitebox -U






import rasterio
import geopandas as gpd
from rasterio.mask import mask
from rasterio.plot import show  
import matplotlib.pyplot as plt
from matplotlib.colors import LightSource
from shapely.geometry import box


dem_url = "https://prd-tnm.s3.amazonaws.com/StagedProducts/Elevation/13/TIFF/historical/n35w111/USGS_13_n35w111_20240402.tif"
shapefile_path = r"G:\Data\Arizona_HUC08plus\Elevation\WoodsCanyonQuad\WoodsCanyonQuad.shp"



# Step 1: Load the DEM from the National Map
#dem_url = "https://prd-tnm.s3.amazonaws.com/StagedProducts/Elevation/13/TIFF/historical/n35w111/USGS_13_n35w111_20240402.tif"

with rasterio.open(dem_url) as src:
    dem_data = src.read(1)
    dem_meta = src.meta


# Plot the DEM using imshow to allow colorbar creation
plt.figure(figsize=(10, 10))
plt.title("Loaded DEM")
plt.imshow(dem_data, cmap='terrain')
plt.colorbar(label='Elevation (m)')
plt.show()


# Step 2: Load the shapefile for masking
#shapefile_path = r"G:\Data\Arizona_HUC08plus\Elevation\WoodsCanyonQuad\WoodsCanyonQuad.shp"
shape_data = gpd.read_file(shapefile_path)

# Reproject the shapefile to the DEM's CRS (if necessary)
shape_data = shape_data.to_crs(dem_meta['crs'])

# Check if shapefile bounds intersect DEM bounds
dem_bounds = src.bounds
shape_bounds = shape_data.total_bounds
if not box(*dem_bounds).intersects(box(*shape_bounds)):
    print("Shapefile and DEM do not overlap. Please check the coordinates.")
else:
    print("Shapefile and DEM overlap.")

print("DEM bounds:", src.bounds)
print("Shapefile bounds:", shape_data.total_bounds)


# Step 3: Plot the DEM and shapefile to check overlap
plt.figure(figsize=(10, 10))
plt.title("DEM and Shapefile Overlay")

# Plot the DEM
plt.imshow(dem_data, cmap='terrain', extent=[src.bounds.left, src.bounds.right, src.bounds.bottom, src.bounds.top])

# Plot the shapefile geometry
shape_data.boundary.plot(ax=plt.gca(), color='red')
plt.show()





from whitebox_tools import WhiteboxTools

wbt = WhiteboxTools()

