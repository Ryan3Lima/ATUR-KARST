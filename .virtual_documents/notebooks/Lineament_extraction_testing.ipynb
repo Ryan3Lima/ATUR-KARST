








# # Install these to follow this workflow

# !pip install -U whitebox
# !pip install whitebox-workflows
# !pip install rasterio matplotlib plotly
# !pip install geopandas
# !pip install cartopy
# !pip install geodatasets
# !pip install folium rioxarray earthpy






#| echo: true
import whitebox
from whitebox_workflows import WbEnvironment

wbe = WbEnvironment()
print(wbe.version()) # Print the version number

wbt = whitebox.WhiteboxTools()

wbe.verbose = True

# I am seeting my working directory to one local to my machine cause the datasets are big
# eventually ill have sample data available online
wbe.working_directory = r'G:\Github\ATUR-KARST-DATA\data\rasters'
print(f'Working directory has been set to: {wbe.working_directory}')





#| code-fold: false
import rasterio
from matplotlib import pyplot as plt
from rasterio.plot import show
from mpl_toolkits.axes_grid1 import make_axes_locatable
import geopandas as gpd
from shapely.geometry import box


def plot_single_raster(raster_path, title=None, cmap='gray'):
    """
    Plots a single raster.

    Parameters:
        raster_path (str): File path to the raster file.
        title (str): Title for the plot (optional).
        cmap (str): Colormap to use for the plot (default is 'gray').
    """
    # Open the raster file
    with rasterio.open(raster_path) as src:
        raster_data = src.read(1)  # Read the first band

    # Plot the raster
    plt.figure(figsize=(10, 10))
    plt.imshow(raster_data, cmap=cmap)
    if title:
        plt.title(title)
    plt.colorbar(label='Value')
    plt.axis('off')  # Optionally turn off axis labels
    plt.show()

# Example usage
raster_file = r'G:\Github\ATUR-KARST-DATA\data\rasters\DEM1m.tif'

# Call the function with a title and a custom colormap
plot_single_raster(raster_file, title="DEM (1m Resolution)", cmap='viridis')





import os
import folium
import rioxarray as rxr
import numpy as np
from skimage import exposure
from matplotlib import cm
import matplotlib
from folium.raster_layers import ImageOverlay
from folium import Map, LayerControl

def plot_raster_interactive(raster_path, title=None, dst_crs='EPSG:4326'):
    """
    Plots a single raster over an interactive map using Folium.

    Parameters:
        raster_path (str): File path to the raster file.
        title (str): Title for the plot (optional).
        dst_crs (str): Destination coordinate reference system for reprojecting the raster (default is 'EPSG:4326').
    """
    # Open the raster in rioxarray
    img = rxr.open_rasterio(raster_path, masked=True)

    # Reproject the raster to be the correct CRS
    img = img.rio.reproject(dst_crs)

    # Replace all null values with the minimum value in the array
    img_plot = img.where(~img.isnull(), img.min())

    # Scale the array from 0 to 255 for visualization using skimage
    scaled_img = exposure.rescale_intensity(img_plot.values[0], out_range=(0, 255)).astype(np.uint8)

    # Get the bounds for the image overlay
    bounds = [[img.rio.bounds()[1], img.rio.bounds()[0]], [img.rio.bounds()[3], img.rio.bounds()[2]]]

    # Access the colormap using the older method
    #cmap = cm.get_cmap('terrain')
    cmap = matplotlib.colormaps['terrain']
    norm_scaled_img = cmap(scaled_img / 255.0)

    # Create the map centered on the raster
    m = Map(location=[np.mean([bounds[0][0], bounds[1][0]]), np.mean([bounds[0][1], bounds[1][1]])], zoom_start=13)

    # Convert the scaled image to an RGB array for overlay
    scaled_img_rgb = np.dstack([norm_scaled_img[:, :, i] for i in range(3)])

    # Add the raster as an overlay to the map
    ImageOverlay(image=scaled_img_rgb, bounds=bounds, opacity=0.6, interactive=True, cross_origin=False, zindex=1).add_to(m)

    # Add layer control
    LayerControl().add_to(m)

    # Display the map
    return m






#| code-fold: false
# Example usage
raster_file = r'G:\Github\ATUR-KARST-DATA\data\rasters\DEM1m.tif'

# Call the function and display the interactive map
interactive_map = plot_raster_interactive(raster_file, title="DEM (1m Resolution)")
interactive_map





raster_file = 'DEM1m.tif'
dem = wbe.read_raster(raster_file) # we call the raster in with white box tools rather than rasterio here





hs = wbe.multidirectional_hillshade(dem)
wbe.write_raster(hs, 'hillshade.tif', compress=False) # Compression is good, but it is a bit slower so here we won't use it.

hillshade_file = wbe.working_directory + os.sep + 'hillshade.tif'
#print(hillshade_file)
plot_single_raster(hillshade_file, title="DEM (1m Resolution)", cmap='grey')





# now lets smooth the DEM
dem_smoothed = wbe.feature_preserving_smoothing(dem, filter_size=11, normal_diff_threshold=25.0, iterations=3)
wbe.write_raster(dem_smoothed, 'dem_smoothed.tif', compress=False)
hs = wbe.multidirectional_hillshade(dem_smoothed)
wbe.write_raster(hs, 'hillshade_smoothed.tif', compress=False) 








def plot_two_rasters_side_by_side(raster_path_1, raster_path_2, title_1=None, title_2=None, cmap='gray'):
    """
    Plots two rasters side by side for comparison.

    Parameters:
        raster_path_1 (str): File path to the first raster file.
        raster_path_2 (str): File path to the second raster file.
        title_1 (str): Title for the first subplot (optional).
        title_2 (str): Title for the second subplot (optional).
        cmap (str): Colormap to use for the plots (default is 'gray').
    """
    # Open the first raster file
    with rasterio.open(raster_path_1) as src1:
        raster_data_1 = src1.read(1)
    
    # Open the second raster file
    with rasterio.open(raster_path_2) as src2:
        raster_data_2 = src2.read(1)
    
    # Create the subplots
    fig, axes = plt.subplots(1, 2, figsize=(15, 7))

    # Plot the first raster
    axes[0].imshow(raster_data_1, cmap=cmap)
    if title_1:
        axes[0].set_title(title_1)
    axes[0].axis('off')  # Turn off axis labels
    
    # Plot the second raster
    axes[1].imshow(raster_data_2, cmap=cmap)
    if title_2:
        axes[1].set_title(title_2)
    axes[1].axis('off')  # Turn off axis labels

    # Display the plots
    plt.show()







# Example usage after generating the hillshades
hillshade_file_unsmoothed = wbe.working_directory + os.sep + 'hillshade.tif'
hillshade_file_smoothed = wbe.working_directory + os.sep + 'hillshade_smoothed.tif'

plot_two_rasters_side_by_side(
    hillshade_file_unsmoothed, 
    hillshade_file_smoothed, 
    title_1="Unsmoothed Hillshade", 
    title_2="Smoothed Hillshade", 
    cmap='grey'
)





contours = wbe.contours_from_raster(dem_smoothed, contour_interval=10.0)
# Define the full path to save the contours shapefile
vector_directory = r"C:\Users\rylim\Documents\GitHub\ATUR-KARST\data\vectors"
contours_path = os.path.join(vector_directory, 'contours.shp')


# Write the vector to the specified path
wbe.write_vector(contours, contours_path)





hillshade_file_smoothed = r'G:\Github\ATUR-KARST-DATA\data\rasters\hillshade_smoothed.tif'
contours_file = r'C:\Users\rylim\Documents\GitHub\ATUR-KARST\data\vectors\contours.shp'

# Load the smoothed hillshade raster
with rasterio.open(hillshade_file_smoothed) as src:
    hillshade_data = src.read(1)
    hillshade_extent = [src.bounds.left, src.bounds.right, src.bounds.bottom, src.bounds.top]

# Load the contours
contours = gpd.read_file(contours_file)

# Plot the hillshade
plt.figure(figsize=(10, 10))
plt.imshow(hillshade_data, cmap='gray', extent=hillshade_extent)

# Overlay the contours
contours.plot(ax=plt.gca(), color='red', linewidth=1)

# Add title and display the plot
plt.title('Smoothed Hillshade with Contours')
plt.axis('off')
plt.show()





import math
import rasterio
import geopandas as gpd
import matplotlib.pyplot as plt

# 1.Remove depressions by first breaching the depressions and then filling the remaining depressions
dem_no_deps = wbe.breach_depressions_least_cost(dem_smoothed, flat_increment=0.001, max_dist=100)  # Adjust max_dist as needed
dem_no_deps = wbe.fill_depressions(dem_no_deps, flat_increment=0.001)

# 2. Perform a flow-accumulation operation using the Qin (2007) multiple flow direction algorithm
channel_threshold = 10000.0
flow_accum = wbe.qin_flow_accumulation(dem_no_deps, out_type='cells', convergence_threshold=channel_threshold, log_transform=True)
flow_accum_file = r'G:\Github\ATUR-KARST-DATA\data\rasters\qin_flow_accum.tif'
wbe.write_raster(flow_accum, flow_accum_file)

# 3. Map the streams by thresholding the flow accumulation raster
streams = flow_accum > math.log(channel_threshold)
streams_file = r'G:\Github\ATUR-KARST-DATA\data\rasters\streams.tif'
wbe.write_raster(streams, streams_file)

# Load the flow accumulation raster for plotting
with rasterio.open(flow_accum_file) as src:
    flow_accum_data = src.read(1)
    flow_accum_extent = [src.bounds.left, src.bounds.right, src.bounds.bottom, src.bounds.top]

# 4a. Plot the flow accumulation raster
plt.figure(figsize=(10, 10))
plt.imshow(flow_accum_data, cmap='viridis', extent=flow_accum_extent)
plt.colorbar(label='Flow Accumulation (log-transformed)')
plt.title('Flow Accumulation (Qin 2007)')
plt.axis('off')
plt.show()

# Load the streams raster for plotting
with rasterio.open(streams_file) as src:
    streams_data = src.read(1)
    streams_extent = [src.bounds.left, src.bounds.right, src.bounds.bottom, src.bounds.top]

# 4b. Plot the streams raster
plt.figure(figsize=(10, 10))
plt.imshow(streams_data, cmap='Blues', extent=streams_extent)
plt.title('Streams')
plt.axis('off')
plt.show()






import rasterio
import geopandas as gpd
from shapely.geometry import LineString
from skimage import measure
import numpy as np

# Step 1: Save the WhiteboxTools raster to a file
streams_file = r'G:\Github\ATUR-KARST-DATA\data\rasters\streams.tif'
wbe.write_raster(streams, streams_file)

# Step 2: Load the DEM or flow accumulation raster to get CRS and transform
dem_file = r'G:\Github\ATUR-KARST-DATA\data\rasters\DEM1m.tif'  # Replace with the path to your original DEM or flow accumulation file
with rasterio.open(dem_file) as src:
    dem_crs = src.crs
    dem_transform = src.transform

# Step 3: Read the saved streams raster using Rasterio
with rasterio.open(streams_file) as src:
    streams_array = src.read(1)  # Read the first band as a NumPy array
    transform = src.transform
    crs = src.crs

# Step 4: Find contours in the binary image
contours = measure.find_contours(streams_array, 0.5)

# Step 5: Convert the contours to shapely LineString objects
stream_lines = []
for contour in contours:
    # Convert raster coordinates to spatial coordinates
    spatial_contour = [rasterio.transform.xy(transform, y, x) for y, x in contour]
    stream_lines.append(LineString(spatial_contour))

# Step 6: Create a GeoDataFrame with the LineStrings
gdf = gpd.GeoDataFrame(geometry=stream_lines, crs=crs)

# Step 7: Save the vector streams as a shapefile
streams_vector_file = r'C:\Users\rylim\Documents\GitHub\ATUR-KARST\data\vectors\streams.shp'
gdf.to_file(streams_vector_file)






import rasterio
import geopandas as gpd
import matplotlib.pyplot as plt

# Paths to your files
hillshade_file_smoothed = r'G:\Github\ATUR-KARST-DATA\data\rasters\hillshade_smoothed.tif'
streams_vector_file = r'C:\Users\rylim\Documents\GitHub\ATUR-KARST\data\vectors\streams.shp'
nhdhr_flowline_file = r'C:\Users\rylim\Documents\GitHub\ATUR-KARST\data\vectors\NHDHR_plusV2_Flowlines.shp'

# Load the smoothed hillshade
with rasterio.open(hillshade_file_smoothed) as src:
    hillshade_array = src.read(1)  # Load the hillshade as a NumPy array
    transform = src.transform
    crs = src.crs

# Load the stream vectors
streams_gdf = gpd.read_file(streams_vector_file)
nhdhr_flowline_gdf = gpd.read_file(nhdhr_flowline_file)

# Plot the smoothed hillshade with streams
fig, axes = plt.subplots(1, 2, figsize=(18, 10))

# Plot hillshade with first stream network
axes[0].imshow(hillshade_array, cmap='gray', extent=(transform[2], transform[2] + hillshade_array.shape[1] * transform[0],
                                                     transform[5] + hillshade_array.shape[0] * transform[4], transform[5]))
streams_gdf.plot(ax=axes[0], color='blue', linewidth=1)
axes[0].set_title('Smoothed Hillshade with Streams.shp')
axes[0].axis('off')

# Plot hillshade with second stream network (NHDHR Flowline)
axes[1].imshow(hillshade_array, cmap='gray', extent=(transform[2], transform[2] + hillshade_array.shape[1] * transform[0],
                                                     transform[5] + hillshade_array.shape[0] * transform[4], transform[5]))
nhdhr_flowline_gdf.plot(ax=axes[1], color='red', linewidth=2)
axes[1].set_title('Smoothed Hillshade with NHDHR Flowline')
axes[1].axis('off')

plt.tight_layout()
plt.show()












import geopandas as gpd
import matplotlib.pyplot as plt
from shapely.geometry import LineString

def quantify_overlap(vectors, crs, buffer_distance=0, plot=True):
    """
    Quantifies the overlap between two vector polyline datasets, considering a positional error threshold.
    
    Args:
        vectors (list): A list of file paths to two vector polyline datasets (shapefiles).
        crs (str or CRS): The coordinate reference system to reproject all datasets to for comparison.
        buffer_distance (float): The buffer distance to account for positional error, in the units of the CRS.
        plot (bool): Whether to plot the results.
        
    Returns:
        tuple: A tuple containing two overlap percentages: 
               (overlap_percentage_1, overlap_percentage_2).
               overlap_percentage_1 is relative to the first dataset.
               overlap_percentage_2 is relative to the second dataset.
    """
    # Load all vector datasets
    geodfs = [gpd.read_file(vector).to_crs(crs) for vector in vectors]
    
    # Apply buffer for positional error if specified
    if buffer_distance > 0:
        geodfs = [gdf.buffer(buffer_distance).unary_union for gdf in geodfs]
    else:
        geodfs = [gdf.unary_union for gdf in geodfs]

    # Find intersection of the two datasets
    intersection = geodfs[0].intersection(geodfs[1])

    # Calculate the total length of both datasets and the intersection
    total_length_1 = geodfs[0].length if buffer_distance > 0 else sum([geom.length for geom in geodfs[0]])
    total_length_2 = geodfs[1].length if buffer_distance > 0 else sum([geom.length for geom in geodfs[1]])
    overlap_length = intersection.length if buffer_distance > 0 else sum([geom.length for geom in intersection])
    
    # Calculate overlap percentages relative to both datasets
    overlap_percentage_1 = (overlap_length / total_length_1) * 100
    overlap_percentage_2 = (overlap_length / total_length_2) * 100
    
    # Plotting
    if plot:
        fig, ax = plt.subplots(figsize=(10, 10))
        
        # Plot the first dataset
        gpd.GeoDataFrame(geometry=[geodfs[0]]).plot(ax=ax, color='blue', linewidth=1, label='Dataset 1')
        
        # Plot the second dataset
        gpd.GeoDataFrame(geometry=[geodfs[1]]).plot(ax=ax, color='red', linewidth=1, label='Dataset 2')
        
        # Plot the intersection
        gpd.GeoDataFrame(geometry=[intersection]).plot(ax=ax, color='green', linewidth=2, label='Overlap')
        
        ax.set_title(f'Overlap of Vector Datasets\n'
                     f'Dataset 1 Overlap: {overlap_percentage_1:.2f}%\n'
                     f'Dataset 2 Overlap: {overlap_percentage_2:.2f}%')
        ax.legend()
        plt.show()
    
    return overlap_percentage_1, overlap_percentage_2








# Example usage:
vectors = [
    r'C:\Users\rylim\Documents\GitHub\ATUR-KARST\data\vectors\streams.shp',
    r'C:\Users\rylim\Documents\GitHub\ATUR-KARST\data\vectors\NHDHR_plusV2_Flowlines.shp'
]
crs = 'EPSG:32612'  # Example CRS, change as needed
buffer_distance = 5  # Example buffer distance in meters or CRS units

overlap_percentage_1, overlap_percentage_2 = quantify_overlap(vectors, crs, buffer_distance)
print(f'Dataset 1 Overlap Percentage: {overlap_percentage_1:.2f}%')
print(f'Dataset 2 Overlap Percentage: {overlap_percentage_2:.2f}%')


import rasterio
import geopandas as gpd
import matplotlib.pyplot as plt

# Define file paths
hillshade_file = r'G:\Github\ATUR-KARST-DATA\data\rasters\hillshade_smoothed.tif'
contacts_file = r'C:\Users\rylim\Documents\GitHub\ATUR-KARST\data\vectors\Contacts.shp'
faults_file = r'C:\Users\rylim\Documents\GitHub\ATUR-KARST\data\vectors\Faults.shp'
study_area_file = r'C:\Users\rylim\Documents\GitHub\ATUR-KARST\data\vectors\LakeMaryStudyArea_Bound.shp'
streams_file = r'C:\Users\rylim\Documents\GitHub\ATUR-KARST\data\vectors\streams.shp'
roads_file = r'C:\Users\rylim\Documents\GitHub\ATUR-KARST\data\vectors\Roads_All.shp'
#outlets_file = r'C:\Users\rylim\Documents\GitHub\ATUR-KARST\data\vectors\outlet.shp'

# Load the hillshade raster
with rasterio.open(hillshade_file) as src:
    hillshade = src.read(1)
    hillshade_extent = [src.bounds.left, src.bounds.right, src.bounds.bottom, src.bounds.top]

# Load the shapefiles
contacts = gpd.read_file(contacts_file)
faults = gpd.read_file(faults_file)
study_area = gpd.read_file(study_area_file)
streams = gpd.read_file(streams_file)
roads = gpd.read_file(roads_file)
#outlets = gpd.read_file(outlets_file)

# Plot the hillshade and shapefiles
plt.figure(figsize=(12, 12))

# Plot the hillshade raster
plt.imshow(hillshade, cmap='gray', extent=hillshade_extent)

# Plot the shapefiles
contacts.plot(ax=plt.gca(), color='blue', linewidth=1, label='Contacts')
faults.plot(ax=plt.gca(), color='red', linewidth=1, label='Faults')
study_area.plot(ax=plt.gca(), color='none', edgecolor='green', linewidth=2, label='Lake Mary Study Area')
streams.plot(ax=plt.gca(), color='cyan', linewidth=1, label='Streams')
roads.plot(ax=plt.gca(), color='yellow', linewidth=1, label='Roads')

# Plot outlets as stars
#outlets.plot(ax=plt.gca(), color='black', marker='*', markersize=100, label='Outlets')

# Add a legend
plt.legend()

# Add title and labels
plt.title('Smoothed Hillshade with Geospatial Features')
plt.xlabel('Longitude')
plt.ylabel('Latitude')

# Show the plot
plt.show()





import numpy as np
import rasterio
from scipy.ndimage import convolve
import matplotlib.pyplot as plt

#1.Function to create directional filters
def create_directional_filters(kernel_size):
    """
    Creates vertical and horizontal directional filters of a given kernel size.
    
    Args:
        kernel_size (int): The size of the kernel. Must be an odd number.
        
    Returns:
        vertical_filter (ndarray): The vertical filter.
        horizontal_filter (ndarray): The horizontal filter.
    """
    if kernel_size % 2 == 0:
        raise ValueError("Kernel size must be an odd number.")
    
    center = kernel_size // 2
    
    vertical_filter = np.zeros((kernel_size, kernel_size))
    horizontal_filter = np.zeros((kernel_size, kernel_size))
    
    vertical_filter[:, center] = np.concatenate([np.ones(center), [0], -np.ones(center)])
    horizontal_filter[center, :] = np.concatenate([np.ones(center), [0], -np.ones(center)])
    
    return vertical_filter, horizontal_filter

#2. Function to enhance contrast
def enhance_contrast(image, gamma=1.0):
    """
    Enhances the contrast of an image using a power-law (gamma) transformation.
    
    Args:
        image (ndarray): The input image.
        gamma (float): The gamma value for contrast enhancement.
        
    Returns:
        contrast_enhanced_image (ndarray): The contrast-enhanced image.
    """
    # Normalize the image to the range [0, 1]
    image_normalized = image - np.min(image)
    image_normalized = image_normalized / np.max(image_normalized)
    
    # Apply the gamma correction
    contrast_enhanced_image = np.power(image_normalized, gamma)
    
    # Scale back to original range
    contrast_enhanced_image = contrast_enhanced_image * np.max(image)
    
    return contrast_enhanced_image

# apply the filters and plot the Horizontal and Vertical directional filters
def apply_and_plot_filters(hillshade_array, transform, kernel_sizes, gamma=1.0):
    """
    Applies vertical and horizontal directional filters of different kernel sizes
    to a DEM, optionally enhances the contrast, and plots the results for comparison.
    
    Args:
        hillshade_array (ndarray): The hillshade array.
        transform (Affine): The affine transformation for plotting.
        kernel_sizes (list): A list of kernel sizes to apply.
        gamma (float): The gamma value for contrast enhancement. Default is 1.0 (no enhancement).
    """
    fig, axes = plt.subplots(len(kernel_sizes), 2, figsize=(12, len(kernel_sizes) * 6))
    
    for i, kernel_size in enumerate(kernel_sizes):
        vertical_filter, horizontal_filter = create_directional_filters(kernel_size)
        
        filtered_vertical = convolve(hillshade_array, vertical_filter)
        filtered_horizontal = convolve(hillshade_array, horizontal_filter)
        
        # Apply contrast enhancement if gamma is not 1.0
        if gamma != 1.0:
            filtered_vertical = enhance_contrast(filtered_vertical, gamma=gamma)
            filtered_horizontal = enhance_contrast(filtered_horizontal, gamma=gamma)
        
        axes[i, 0].imshow(filtered_vertical, cmap='gray', extent=(transform[2], transform[2] + hillshade_array.shape[1] * transform[0],
                                                                  transform[5] + hillshade_array.shape[0] * transform[4], transform[5]))
        axes[i, 0].set_title(f'Vertical Filter ({kernel_size}x{kernel_size})')
        axes[i, 0].axis('off')
        
        axes[i, 1].imshow(filtered_horizontal, cmap='gray', extent=(transform[2], transform[2] + hillshade_array.shape[1] * transform[0],
                                                                    transform[5] + hillshade_array.shape[0] * transform[4], transform[5]))
        axes[i, 1].set_title(f'Horizontal Filter ({kernel_size}x{kernel_size})')
        axes[i, 1].axis('off')
    
    plt.tight_layout()
    plt.show()



# Load the multi-directional hillshade raster
hillshade_file = r'G:\Github\ATUR-KARST-DATA\data\rasters\hillshade_smoothed.tif'
with rasterio.open(hillshade_file) as src:
    hillshade_array = src.read(1)  # Load the hillshade as a NumPy array
    transform = src.transform
    crs = src.crs


# Apply and plot filters with kernel sizes of 3x3, 5x5, 7x7, and 9x9, with contrast enhancement
kernel_sizes = [5, 7, 9, 11]
apply_and_plot_filters(hillshade_array, transform, kernel_sizes, gamma=2)  # Adjust gamma to enhance contrast


#| echo: false
# '''
# # Find contours in the Canny edges
# contours = measure.find_contours(edges_canny_contrast, 0.5)

# # Convert contours to a list of (x, y) coordinates
# contour_lines = []
# for contour in contours:
#     spatial_contour = [rasterio.transform.xy(transform, y, x) for y, x in contour]
#     contour_lines.append(spatial_contour)

# # Step 1: Plot Canny edges with contours overlaid
# fig, ax = plt.subplots(1, 2, figsize=(18, 10))

# ax[0].imshow(edges_canny, cmap='viridis')
# for contour in contour_lines:
#     ax[0].plot([pt[0] for pt in contour], [pt[1] for pt in contour], linewidth=2, color='red')
# ax[0].set_title('Canny Edge Detection with Contours')
# ax[0].axis('off')


# # Plot the hillshade with roads, contacts, faults, streams overlaid
# ax[1].imshow(hillshade_array, cmap='gray', extent=(transform[2], transform[2] + hillshade_array.shape[1] * transform[0],
#                                                    transform[5] + hillshade_array.shape[0] * transform[4], transform[5]))

# contacts.plot(ax=ax[1], color='blue', linewidth=1, label='Contacts')
# faults.plot(ax=ax[1], color='red', linewidth=1, label='Faults')
# streams.plot(ax=ax[1], color='cyan', linewidth=1, label='Streams')
# roads.plot(ax=ax[1], color='yellow', linewidth=1, label='Roads')

# ax[1].set_title('Hillshade with Geospatial Features')
# ax[1].axis('off')

# # Add a legend to the second plot
# legend_patches = [
#     mpatches.Patch(color='blue', label='Contacts'),
#     mpatches.Patch(color='red', label='Faults'),
#     mpatches.Patch(color='cyan', label='Streams'),
#     mpatches.Patch(color='yellow', label='Roads')
# ]
# ax[1].legend(handles=legend_patches, loc='upper right')

# plt.tight_layout()
# plt.show()
# '''


#| echo: false
# # Step 4: Spatial analysis - find intersections
# intersections_contacts = gpd.overlay(lineaments_gdf, contacts, how='intersection')
# intersections_faults = gpd.overlay(lineaments_gdf, faults, how='intersection')
# intersections_streams = gpd.overlay(lineaments_gdf, streams, how='intersection')
# intersections_roads = gpd.overlay(lineaments_gdf, roads, how='intersection')

# # Print the number of intersections
# print(f"Number of lineaments coinciding with contacts: {len(intersections_contacts)}")
# print(f"Number of lineaments coinciding with faults: {len(intersections_faults)}")
# print(f"Number of lineaments coinciding with streams: {len(intersections_streams)}")
# print(f"Number of lineaments coinciding with roads: {len(intersections_roads)}")

# # Save intersection results as shapefiles if needed
# intersections_contacts.to_file(r'C:\Users\rylim\Documents\GitHub\ATUR-KARST\data\vectors\intersections_contacts.shp')
# intersections_faults.to_file(r'C:\Users\rylim\Documents\GitHub\ATUR-KARST\data\vectors\intersections_faults.shp')
# intersections_streams.to_file(r'C:\Users\rylim\Documents\GitHub\ATUR-KARST\data\vectors\intersections_streams.shp')
# intersections_roads.to_file(r'C:\Users\rylim\Documents\GitHub\ATUR-KARST\data\vectors\intersections_roads.shp')

